{
 "cells": [
  {
   "cell_type": "markdown",
   "metadata": {},
   "source": [
    "# Churn Analysis\n",
    "The following analysis uses a scrubbed dataset based on a subscription platform. The objective of the analysis is to investigate churn and build a predictive model. The three tables included in the dataset are as follows:\n",
    "\n",
    "- **Users**: A list of all active and inactive subscribers\n",
    "\n",
    "- **Orders**: A list of all orders\n",
    "\n",
    "- **Line items**: A list of all items in every order\n",
    "\n",
    "The investigation is split into seven sections:\n",
    "\n",
    "1. [Importing packages and files](#1)\n",
    "2. [Examination of fields, shapes, and missing values](#2)\n",
    "3. [Data cleaning and transformation](#3)\n",
    "4. [Churn analysis and visualization](#4)\n",
    "5. [Exploratory data analysis](#5)\n",
    "6. [Feature engineering](#6)\n",
    "7. [Final classification modeling](#7)"
   ]
  },
  {
   "cell_type": "markdown",
   "metadata": {},
   "source": [
    "<a id='1'></a>\n",
    "## 1. Import packages and data files"
   ]
  },
  {
   "cell_type": "code",
   "execution_count": 1,
   "metadata": {},
   "outputs": [],
   "source": [
    "import pandas as pd\n",
    "import numpy as np\n",
    "import matplotlib.pyplot as plt\n",
    "import seaborn as sns\n",
    "%matplotlib inline\n",
    "pd.set_option('display.max_rows', 20)\n",
    "pd.set_option('display.max_columns', 30)"
   ]
  },
  {
   "cell_type": "code",
   "execution_count": 2,
   "metadata": {},
   "outputs": [
    {
     "name": "stderr",
     "output_type": "stream",
     "text": [
      "/Users/charleszien/anaconda3/lib/python3.7/site-packages/IPython/core/interactiveshell.py:3058: DtypeWarning: Columns (5) have mixed types. Specify dtype option on import or set low_memory=False.\n",
      "  interactivity=interactivity, compiler=compiler, result=result)\n"
     ]
    }
   ],
   "source": [
    "users = pd.read_csv('users.txt', sep='|')\n",
    "orders = pd.read_csv('orders.txt', sep='|')\n",
    "line_items = pd.read_csv('line_items.txt', sep='|')"
   ]
  },
  {
   "cell_type": "markdown",
   "metadata": {},
   "source": [
    "<a id='2'></a>\n",
    "## 2. Get a feel for the data"
   ]
  },
  {
   "cell_type": "markdown",
   "metadata": {},
   "source": [
    "### 2.1 Print shapes and heads"
   ]
  },
  {
   "cell_type": "code",
   "execution_count": 3,
   "metadata": {},
   "outputs": [
    {
     "name": "stdout",
     "output_type": "stream",
     "text": [
      "(88186, 13)\n"
     ]
    },
    {
     "data": {
      "text/html": [
       "<div>\n",
       "<style scoped>\n",
       "    .dataframe tbody tr th:only-of-type {\n",
       "        vertical-align: middle;\n",
       "    }\n",
       "\n",
       "    .dataframe tbody tr th {\n",
       "        vertical-align: top;\n",
       "    }\n",
       "\n",
       "    .dataframe thead th {\n",
       "        text-align: right;\n",
       "    }\n",
       "</style>\n",
       "<table border=\"1\" class=\"dataframe\">\n",
       "  <thead>\n",
       "    <tr style=\"text-align: right;\">\n",
       "      <th></th>\n",
       "      <th>user_number</th>\n",
       "      <th>created_at</th>\n",
       "      <th>original_sub_date</th>\n",
       "      <th>unsub_date</th>\n",
       "      <th>most_recent_sub</th>\n",
       "      <th>dob</th>\n",
       "      <th>dinghy</th>\n",
       "      <th>high_performance</th>\n",
       "      <th>sailing_frequency</th>\n",
       "      <th>active_subscriber</th>\n",
       "      <th>boat_class</th>\n",
       "      <th>number_of_crew</th>\n",
       "      <th>source_category</th>\n",
       "    </tr>\n",
       "  </thead>\n",
       "  <tbody>\n",
       "    <tr>\n",
       "      <th>0</th>\n",
       "      <td>5555e59b17c05c24cc37c9220d5793a20d919fff76bf64...</td>\n",
       "      <td>7/18/2019 05:05:08.890461</td>\n",
       "      <td>2019-07-18 05:05:12.673728</td>\n",
       "      <td>7/26/2019 14:39:02.618144</td>\n",
       "      <td>7/18/2019 05:05:12.673712</td>\n",
       "      <td>NaN</td>\n",
       "      <td>f</td>\n",
       "      <td>f</td>\n",
       "      <td>2</td>\n",
       "      <td>f</td>\n",
       "      <td>global</td>\n",
       "      <td>3</td>\n",
       "      <td>facebook</td>\n",
       "    </tr>\n",
       "    <tr>\n",
       "      <th>1</th>\n",
       "      <td>c3b9d29fdbe854fb0172abf3bd90dd8b132e094a828d81...</td>\n",
       "      <td>6/1/2019 12:11:54.94819</td>\n",
       "      <td>2019-06-01 12:11:54.967822</td>\n",
       "      <td>10/4/2019 13:17:48.887805</td>\n",
       "      <td>6/1/2019 12:11:54.967799</td>\n",
       "      <td>NaN</td>\n",
       "      <td>f</td>\n",
       "      <td>f</td>\n",
       "      <td>2</td>\n",
       "      <td>f</td>\n",
       "      <td>global</td>\n",
       "      <td>3</td>\n",
       "      <td>dripleads</td>\n",
       "    </tr>\n",
       "  </tbody>\n",
       "</table>\n",
       "</div>"
      ],
      "text/plain": [
       "                                         user_number  \\\n",
       "0  5555e59b17c05c24cc37c9220d5793a20d919fff76bf64...   \n",
       "1  c3b9d29fdbe854fb0172abf3bd90dd8b132e094a828d81...   \n",
       "\n",
       "                  created_at           original_sub_date  \\\n",
       "0  7/18/2019 05:05:08.890461  2019-07-18 05:05:12.673728   \n",
       "1    6/1/2019 12:11:54.94819  2019-06-01 12:11:54.967822   \n",
       "\n",
       "                  unsub_date            most_recent_sub  dob dinghy  \\\n",
       "0  7/26/2019 14:39:02.618144  7/18/2019 05:05:12.673712  NaN      f   \n",
       "1  10/4/2019 13:17:48.887805   6/1/2019 12:11:54.967799  NaN      f   \n",
       "\n",
       "  high_performance  sailing_frequency active_subscriber boat_class  \\\n",
       "0                f                  2                 f     global   \n",
       "1                f                  2                 f     global   \n",
       "\n",
       "   number_of_crew source_category  \n",
       "0               3        facebook  \n",
       "1               3       dripleads  "
      ]
     },
     "execution_count": 3,
     "metadata": {},
     "output_type": "execute_result"
    }
   ],
   "source": [
    "print(users.shape)\n",
    "users.head(2)"
   ]
  },
  {
   "cell_type": "code",
   "execution_count": 4,
   "metadata": {},
   "outputs": [
    {
     "name": "stdout",
     "output_type": "stream",
     "text": [
      "(461112, 13)\n"
     ]
    },
    {
     "data": {
      "text/html": [
       "<div>\n",
       "<style scoped>\n",
       "    .dataframe tbody tr th:only-of-type {\n",
       "        vertical-align: middle;\n",
       "    }\n",
       "\n",
       "    .dataframe tbody tr th {\n",
       "        vertical-align: top;\n",
       "    }\n",
       "\n",
       "    .dataframe thead th {\n",
       "        text-align: right;\n",
       "    }\n",
       "</style>\n",
       "<table border=\"1\" class=\"dataframe\">\n",
       "  <thead>\n",
       "    <tr style=\"text-align: right;\">\n",
       "      <th></th>\n",
       "      <th>user_number</th>\n",
       "      <th>number</th>\n",
       "      <th>completed_at</th>\n",
       "      <th>order_category</th>\n",
       "      <th>ship_date</th>\n",
       "      <th>sailing_total</th>\n",
       "      <th>sailing_charged</th>\n",
       "      <th>rigging_total</th>\n",
       "      <th>rigging_charged</th>\n",
       "      <th>sailing_tax</th>\n",
       "      <th>rigging_tax</th>\n",
       "      <th>total_charged</th>\n",
       "      <th>state</th>\n",
       "    </tr>\n",
       "  </thead>\n",
       "  <tbody>\n",
       "    <tr>\n",
       "      <th>0</th>\n",
       "      <td>0b6e82157ae3929598b1feee6244ba577ec35bb798ff80...</td>\n",
       "      <td>R204745000</td>\n",
       "      <td>2019-08-11 05:49:02.807307</td>\n",
       "      <td>club</td>\n",
       "      <td>8/12/2019</td>\n",
       "      <td>117.56</td>\n",
       "      <td>79.98</td>\n",
       "      <td>9.95</td>\n",
       "      <td>9.95</td>\n",
       "      <td>0.00</td>\n",
       "      <td>0.0</td>\n",
       "      <td>89.93</td>\n",
       "      <td>Massachusetts</td>\n",
       "    </tr>\n",
       "    <tr>\n",
       "      <th>1</th>\n",
       "      <td>ee98c9284e10492c120b6d97603ab04a39a9e56d814eea...</td>\n",
       "      <td>R643320908</td>\n",
       "      <td>2019-08-19 18:00:05.858210</td>\n",
       "      <td>intro</td>\n",
       "      <td>8/20/2019</td>\n",
       "      <td>123.88</td>\n",
       "      <td>29.95</td>\n",
       "      <td>9.95</td>\n",
       "      <td>0.00</td>\n",
       "      <td>2.65</td>\n",
       "      <td>0.0</td>\n",
       "      <td>32.60</td>\n",
       "      <td>New York</td>\n",
       "    </tr>\n",
       "  </tbody>\n",
       "</table>\n",
       "</div>"
      ],
      "text/plain": [
       "                                         user_number      number  \\\n",
       "0  0b6e82157ae3929598b1feee6244ba577ec35bb798ff80...  R204745000   \n",
       "1  ee98c9284e10492c120b6d97603ab04a39a9e56d814eea...  R643320908   \n",
       "\n",
       "                 completed_at order_category  ship_date  sailing_total  \\\n",
       "0  2019-08-11 05:49:02.807307           club  8/12/2019         117.56   \n",
       "1  2019-08-19 18:00:05.858210          intro  8/20/2019         123.88   \n",
       "\n",
       "   sailing_charged  rigging_total  rigging_charged  sailing_tax  rigging_tax  \\\n",
       "0            79.98           9.95             9.95         0.00          0.0   \n",
       "1            29.95           9.95             0.00         2.65          0.0   \n",
       "\n",
       "   total_charged          state  \n",
       "0          89.93  Massachusetts  \n",
       "1          32.60       New York  "
      ]
     },
     "execution_count": 4,
     "metadata": {},
     "output_type": "execute_result"
    }
   ],
   "source": [
    "print(orders.shape)\n",
    "orders.head(2)"
   ]
  },
  {
   "cell_type": "code",
   "execution_count": 5,
   "metadata": {},
   "outputs": [
    {
     "name": "stdout",
     "output_type": "stream",
     "text": [
      "(2683363, 4)\n"
     ]
    },
    {
     "data": {
      "text/html": [
       "<div>\n",
       "<style scoped>\n",
       "    .dataframe tbody tr th:only-of-type {\n",
       "        vertical-align: middle;\n",
       "    }\n",
       "\n",
       "    .dataframe tbody tr th {\n",
       "        vertical-align: top;\n",
       "    }\n",
       "\n",
       "    .dataframe thead th {\n",
       "        text-align: right;\n",
       "    }\n",
       "</style>\n",
       "<table border=\"1\" class=\"dataframe\">\n",
       "  <thead>\n",
       "    <tr style=\"text-align: right;\">\n",
       "      <th></th>\n",
       "      <th>number</th>\n",
       "      <th>product_id</th>\n",
       "      <th>category</th>\n",
       "      <th>quantity</th>\n",
       "    </tr>\n",
       "  </thead>\n",
       "  <tbody>\n",
       "    <tr>\n",
       "      <th>0</th>\n",
       "      <td>R127717011</td>\n",
       "      <td>0</td>\n",
       "      <td>boat</td>\n",
       "      <td>1.0</td>\n",
       "    </tr>\n",
       "    <tr>\n",
       "      <th>1</th>\n",
       "      <td>R464303593</td>\n",
       "      <td>1</td>\n",
       "      <td>boat</td>\n",
       "      <td>6.0</td>\n",
       "    </tr>\n",
       "  </tbody>\n",
       "</table>\n",
       "</div>"
      ],
      "text/plain": [
       "       number  product_id category  quantity\n",
       "0  R127717011           0     boat       1.0\n",
       "1  R464303593           1     boat       6.0"
      ]
     },
     "execution_count": 5,
     "metadata": {},
     "output_type": "execute_result"
    }
   ],
   "source": [
    "print(line_items.shape)\n",
    "line_items.head(2)"
   ]
  },
  {
   "cell_type": "markdown",
   "metadata": {},
   "source": [
    "### 2.2 Check data types and missing values\n",
    "It looks like there are relatively few missing values - lucky for us!"
   ]
  },
  {
   "cell_type": "code",
   "execution_count": 6,
   "metadata": {
    "scrolled": true
   },
   "outputs": [
    {
     "name": "stdout",
     "output_type": "stream",
     "text": [
      "<class 'pandas.core.frame.DataFrame'>\n",
      "RangeIndex: 88186 entries, 0 to 88185\n",
      "Data columns (total 13 columns):\n",
      "user_number          88186 non-null object\n",
      "created_at           88186 non-null object\n",
      "original_sub_date    88186 non-null object\n",
      "unsub_date           54274 non-null object\n",
      "most_recent_sub      88186 non-null object\n",
      "dob                  1 non-null object\n",
      "dinghy               88186 non-null object\n",
      "high_performance     88186 non-null object\n",
      "sailing_frequency    88186 non-null int64\n",
      "active_subscriber    88186 non-null object\n",
      "boat_class           88186 non-null object\n",
      "number_of_crew       88186 non-null int64\n",
      "source_category      84602 non-null object\n",
      "dtypes: int64(2), object(11)\n",
      "memory usage: 8.7+ MB\n",
      "<class 'pandas.core.frame.DataFrame'>\n",
      "RangeIndex: 461112 entries, 0 to 461111\n",
      "Data columns (total 13 columns):\n",
      "user_number        461104 non-null object\n",
      "number             461112 non-null object\n",
      "completed_at       461112 non-null object\n",
      "order_category     461112 non-null object\n",
      "ship_date          461040 non-null object\n",
      "sailing_total      461112 non-null float64\n",
      "sailing_charged    461101 non-null float64\n",
      "rigging_total      461112 non-null float64\n",
      "rigging_charged    461101 non-null float64\n",
      "sailing_tax        461101 non-null float64\n",
      "rigging_tax        461101 non-null float64\n",
      "total_charged      458276 non-null float64\n",
      "state              461112 non-null object\n",
      "dtypes: float64(7), object(6)\n",
      "memory usage: 45.7+ MB\n",
      "<class 'pandas.core.frame.DataFrame'>\n",
      "RangeIndex: 2683363 entries, 0 to 2683362\n",
      "Data columns (total 4 columns):\n",
      "number        object\n",
      "product_id    int64\n",
      "category      object\n",
      "quantity      float64\n",
      "dtypes: float64(1), int64(1), object(2)\n",
      "memory usage: 81.9+ MB\n",
      "None None None\n"
     ]
    }
   ],
   "source": [
    "print(users.info(), orders.info(), line_items.info())"
   ]
  },
  {
   "cell_type": "markdown",
   "metadata": {},
   "source": [
    "<a id='3'></a>\n",
    "## 3. Clean and transform\n",
    "Time fields were read as strings, so they need to be converted to times for the analysis. A *tenure_days* column was also created."
   ]
  },
  {
   "cell_type": "code",
   "execution_count": 7,
   "metadata": {
    "scrolled": true
   },
   "outputs": [],
   "source": [
    "users['created_at'] = pd.to_datetime(users['created_at'],\n",
    "                                     format='%m/%d/%Y %H:%M:%S.%f')\n",
    "users['unsub_date'] = pd.to_datetime(users['unsub_date'],\n",
    "                                     format='%m/%d/%Y %H:%M:%S.%f')\n",
    "users['most_recent_sub'] = pd.to_datetime(users['most_recent_sub'],\n",
    "                                          format='%m/%d/%Y %H:%M:%S.%f')\n",
    "users['original_sub_date'] = pd.to_datetime(users['original_sub_date'])\n",
    "users['tenure_days'] = (users['unsub_date'] -\n",
    "                        users['most_recent_sub']).dt.days + 1\n",
    "users.loc[users['tenure_days'].isna(), 'tenure_days'] = (\n",
    "    users['most_recent_sub'].max() - users['most_recent_sub']).dt.days + 1\n",
    "users = users.drop(columns='dob', axis=1)\n",
    "orders['completed_at'] = pd.to_datetime(orders['completed_at'])\n",
    "orders['ship_date'] = pd.to_datetime(orders['ship_date'], format='%m/%d/%Y')"
   ]
  },
  {
   "cell_type": "markdown",
   "metadata": {},
   "source": [
    "<a id='4'></a>\n",
    "## 4. Build monthly and weekly churn models\n",
    "\n",
    "To calculate churn, you first must know the total number of active users, which I calculated in the function below. I then constructed a dual-axis line plot to visualize the churn."
   ]
  },
  {
   "cell_type": "code",
   "execution_count": 8,
   "metadata": {},
   "outputs": [],
   "source": [
    "''' Generates a line plot of customer churn and subscriber base. Accepts a dataframe, period, and start date, draws plot and retuns table used to generate chart. '''\n",
    "\n",
    "\n",
    "def churn_graph(df=users, period='W', period_start=pd.datetime(2018, 12, 12)):\n",
    "    from pandas.plotting import register_matplotlib_converters\n",
    "    register_matplotlib_converters()\n",
    "\n",
    "    if period == 'D':\n",
    "        offset = pd.DateOffset(days=1)\n",
    "        title = '30-Day Rolling Churn'\n",
    "    elif period == 'W':\n",
    "        offset = pd.DateOffset(weeks=1)\n",
    "        title = 'Weekly Churn'\n",
    "    else:\n",
    "        offset = pd.DateOffset(months=1)\n",
    "        title = 'Monthly Churn'\n",
    "\n",
    "    # Generate dataframe and populate with unsubscribes by period\n",
    "    a = pd.DataFrame(df.groupby(\n",
    "        df['unsub_date'].dt.to_period(f'{period}')).size(),\n",
    "        columns=['unsubscribes']).reset_index()\n",
    "    a['unsub_date'] = [i.to_timestamp().date() for i in a['unsub_date']]\n",
    "    a = a.loc[a['unsub_date'] >= period_start.date()]\n",
    "\n",
    "    # Create a separate dataframe for each period to find active users\n",
    "    active_list = []\n",
    "    for i in range(len(a)):\n",
    "        period_end = period_start + offset\n",
    "        df['active'] = False\n",
    "        df.loc[(df['most_recent_sub'] < period_start + offset) &\n",
    "               ((df['unsub_date'] > period_end + offset) |\n",
    "                (df['unsub_date'].isna())), 'active'] = True\n",
    "        active_list.append(df['active'].sum())\n",
    "        period_start = period_end\n",
    "    a['active_users'] = active_list\n",
    "\n",
    "    # Calculate churn\n",
    "    a['churn'] = a['unsubscribes'] / a['active_users']\n",
    "\n",
    "    # Generate rolling churn calculation for daily chart\n",
    "    if period == 'D':\n",
    "        a['churn'] = a['churn'].rolling(30, win_type='triang').mean()\n",
    "\n",
    "    # Draw chart\n",
    "    fig, ax = plt.subplots(figsize=(10, 6))\n",
    "    ax = sns.lineplot(x=\"unsub_date\", y=\"active_users\", data=a, color='blue')\n",
    "    ax.set_xlabel('Date')\n",
    "    ax.set_ylabel('Active Users', color='blue')\n",
    "    ax2 = ax.twinx().set_title(title)\n",
    "    ax2 = sns.lineplot(x=\"unsub_date\", y=\"churn\", data=a, color='red')\n",
    "    ax2.set_ylabel('Churn', color='red')\n",
    "    return a"
   ]
  },
  {
   "cell_type": "markdown",
   "metadata": {},
   "source": [
    "### 4.1 Monthly\n",
    "Generally, when you hear about churn, it's on a monthly basis, so that's where I started: "
   ]
  },
  {
   "cell_type": "code",
   "execution_count": 9,
   "metadata": {
    "scrolled": true
   },
   "outputs": [
    {
     "data": {
      "image/png": "[encoded data removed]",
      "text/plain": [
       "<Figure size 720x432 with 2 Axes>"
      ]
     },
     "metadata": {
      "needs_background": "light"
     },
     "output_type": "display_data"
    }
   ],
   "source": [
    "a = churn_graph(period='M')"
   ]
  },
  {
   "cell_type": "markdown",
   "metadata": {},
   "source": [
    "### 4.2 Weekly\n",
    "I noticed the monthly chart looked a bit, shall we say, \"spiky,\" so I wanted to be sure I was capturing some of the finer nuances. I also modeled the churn on a weekly basis. The caveat here is that there can be a lot of fluctuation in weekly churn given the short time period. However, in both cases, churn is showing a downward trend."
   ]
  },
  {
   "cell_type": "code",
   "execution_count": 10,
   "metadata": {
    "scrolled": true
   },
   "outputs": [
    {
     "data": {
      "image/png": "[encoded data removed]",
      "text/plain": [
       "<Figure size 720x432 with 2 Axes>"
      ]
     },
     "metadata": {
      "needs_background": "light"
     },
     "output_type": "display_data"
    }
   ],
   "source": [
    "a = churn_graph()"
   ]
  },
  {
   "cell_type": "markdown",
   "metadata": {},
   "source": [
    "### 4.3 Daily\n",
    "A lot can change from week to week. Ever the perfectionist, I wanted to go a level deeper, so I constructed a 30-day rolling window to smooth things out a bit. This more or less mirrors the weekly chart, but because it's a rolling average, it is less responsive than the weekly chart — everything is shifted just a bit to the right! It's a good retrospective tool, but is less suited to real-time monitoring of performance metrics."
   ]
  },
  {
   "cell_type": "code",
   "execution_count": 11,
   "metadata": {
    "scrolled": true
   },
   "outputs": [
    {
     "data": {
      "image/png": "[encoded data removed]",
      "text/plain": [
       "<Figure size 720x432 with 2 Axes>"
      ]
     },
     "metadata": {
      "needs_background": "light"
     },
     "output_type": "display_data"
    }
   ],
   "source": [
    "a = churn_graph(period='D')"
   ]
  },
  {
   "cell_type": "markdown",
   "metadata": {},
   "source": [
    "<a id='5'></a>\n",
    "## 5. Slice and dice"
   ]
  },
  {
   "cell_type": "markdown",
   "metadata": {},
   "source": [
    "### 5.1 Gaming the system\n",
    "I used the new *tenure_days* data to check the distribution of tenure on the platform. Interestingly, there were numerous same-day cancellations. My suspicion was that these users were gaming the system by signing up for the intro offer and cancelling immediately thereafter."
   ]
  },
  {
   "cell_type": "code",
   "execution_count": 12,
   "metadata": {},
   "outputs": [
    {
     "data": {
      "text/plain": [
       "<matplotlib.axes._subplots.AxesSubplot at 0x1247af898>"
      ]
     },
     "execution_count": 12,
     "metadata": {},
     "output_type": "execute_result"
    },
    {
     "data": {
      "image/png": "[encoded data removed]",
      "text/plain": [
       "<Figure size 432x288 with 1 Axes>"
      ]
     },
     "metadata": {
      "needs_background": "light"
     },
     "output_type": "display_data"
    }
   ],
   "source": [
    "df = users.loc[users['active_subscriber'] == 'f']\n",
    "df['tenure_days'].hist(bins=20)"
   ]
  },
  {
   "cell_type": "markdown",
   "metadata": {},
   "source": [
    "To verify my hunch, I used the *orders* table to find each user's first order. Then, I built a bar plot to check whether the \"fast churners\" were taking advantage of the introductory offer more than the typical customer. This does appear to be the case!"
   ]
  },
  {
   "cell_type": "code",
   "execution_count": 13,
   "metadata": {},
   "outputs": [
    {
     "data": {
      "text/plain": [
       "<matplotlib.axes._subplots.AxesSubplot at 0x1260576d8>"
      ]
     },
     "execution_count": 13,
     "metadata": {},
     "output_type": "execute_result"
    },
    {
     "data": {
      "image/png": "[encoded data removed]",
      "text/plain": [
       "<Figure size 432x288 with 1 Axes>"
      ]
     },
     "metadata": {
      "needs_background": "light"
     },
     "output_type": "display_data"
    }
   ],
   "source": [
    "df = pd.merge(orders, users, on='user_number')\n",
    "\n",
    "# This is a compute-intensive operation so I am running it on a small sample\n",
    "first_order = df.sample(1000).groupby('user_number').min()[[\n",
    "    'number', 'order_category', 'completed_at'\n",
    "]]\n",
    "\n",
    "first_order_categories = pd.DataFrame(\n",
    "    first_order.groupby('order_category').size(), columns=['all_users'])\n",
    "\n",
    "first_order_categories['fast_churners'] = df.loc[(\n",
    "    df['tenure_days'] == 1), 'order_category'].groupby(\n",
    "        df['order_category']).size()\n",
    "\n",
    "first_order_categories['all_users'] = first_order_categories[\n",
    "    'all_users'] / first_order_categories['all_users'].sum()\n",
    "first_order_categories['fast_churners'] = first_order_categories[\n",
    "    'fast_churners'] / first_order_categories['fast_churners'].sum()\n",
    "\n",
    "first_order_categories.plot.bar()"
   ]
  },
  {
   "cell_type": "markdown",
   "metadata": {},
   "source": [
    "### 5.2 It's the source, of course\n",
    "It makes sense that users coming from different sources have different propensity to churn. For example, there would probably be much better odds of retention for an well-targeted ad on Facebook, while a more general source, such as mail, would bring in less loyal customers. This is indeed how it played out."
   ]
  },
  {
   "cell_type": "code",
   "execution_count": 14,
   "metadata": {},
   "outputs": [
    {
     "data": {
      "text/plain": [
       "<matplotlib.axes._subplots.AxesSubplot at 0x1228d00b8>"
      ]
     },
     "execution_count": 14,
     "metadata": {},
     "output_type": "execute_result"
    },
    {
     "data": {
      "image/png": "[encoded data removed]",
      "text/plain": [
       "<Figure size 1440x576 with 1 Axes>"
      ]
     },
     "metadata": {
      "needs_background": "light"
     },
     "output_type": "display_data"
    }
   ],
   "source": [
    "a = users.groupby('source_category').size()\n",
    "a = pd.DataFrame(a.loc[a > 100])\n",
    "b = (users.groupby(['source_category', 'active_subscriber']).size() /\n",
    "     users.groupby('source_category').size()).unstack().sort_values(by='t')\n",
    "a = pd.merge(b, a, on='source_category')[['t', 'f']]\n",
    "a.columns = ['active', 'churned']\n",
    "\n",
    "a.plot(kind='bar', figsize=(20, 8), rot=45)"
   ]
  },
  {
   "cell_type": "markdown",
   "metadata": {},
   "source": [
    "<a id='6'></a>\n",
    "## 6. Engineer features\n",
    "The next step is to encode all features as numerics. In some cases (*dinghy* and *high_performance*), this is as simple as swapping in 0 and 1 for the values. Other columns required dummification.\n",
    "\n",
    "I generated the labels based on the *active_subscriber* column, with 1 indicating a user has churned."
   ]
  },
  {
   "cell_type": "code",
   "execution_count": 15,
   "metadata": {},
   "outputs": [],
   "source": [
    "# Defining number of orders, mean order value\n",
    "num_orders = df.groupby('user_number').size()\n",
    "mean_order_value = df.groupby('user_number').mean()['total_charged']\n",
    "tmp = pd.DataFrame(pd.concat((num_orders, mean_order_value), axis=1))\n",
    "tmp.columns = ['num_orders', 'mean_order_value']\n",
    "features = pd.merge(users, tmp, on='user_number')\n",
    "\n",
    "# Binary encoding dinghy and high_performance\n",
    "features['dinghy'] = features['dinghy'].replace('t', 1).replace('f', 0)\n",
    "features['high_performance'] = features['high_performance'].replace(\n",
    "    't', 1).replace('f', 0)\n",
    "\n",
    "# Dropping 204 orders with no value\n",
    "features = features[~features['mean_order_value'].isna()]\n",
    "\n",
    "# Setting labels\n",
    "labels = features['active_subscriber'].replace('t', 0).replace('f', 1)\n",
    "\n",
    "# Binary encoding boat_class and source_category\n",
    "features = pd.concat(\n",
    "    (features,\n",
    "     pd.get_dummies(features[['boat_class', 'source_category']],\n",
    "                    drop_first=True)),\n",
    "    axis=1)\n",
    "\n",
    "# Binary encoding and merging line items\n",
    "df = pd.merge(line_items,\n",
    "              pd.merge(orders, users, on='user_number'),\n",
    "              on='number')\n",
    "product_ids = pd.get_dummies(df['product_id'], prefix='product')\n",
    "tmp = pd.concat((df['user_number'], product_ids), axis=1)\n",
    "tmp = pd.DataFrame(tmp.groupby('user_number').sum())\n",
    "tmp.reset_index(inplace=True)\n",
    "features = pd.merge(features, tmp, on='user_number')\n",
    "\n",
    "# Dropping unused fields\n",
    "features.drop([\n",
    "    'user_number', 'active_subscriber', 'original_sub_date', 'unsub_date',\n",
    "    'created_at', 'most_recent_sub', 'boat_class', 'source_category', 'active'\n",
    "],\n",
    "    axis=1,\n",
    "    inplace=True)"
   ]
  },
  {
   "cell_type": "markdown",
   "metadata": {},
   "source": [
    "<a id='7'></a>\n",
    "## 7. Train, fit, and evaluate models"
   ]
  },
  {
   "cell_type": "markdown",
   "metadata": {},
   "source": [
    "### 7.1 Logistic regression\n",
    "Given this is a binomial classification problem, a logistic regression seemed like a good first step. Using default parameters, the model was 87% accurate — not bad! Source categories and products purchased played a significant role in the model, as shown by the weights."
   ]
  },
  {
   "cell_type": "code",
   "execution_count": 16,
   "metadata": {},
   "outputs": [
    {
     "name": "stderr",
     "output_type": "stream",
     "text": [
      "/Users/charleszien/anaconda3/lib/python3.7/site-packages/sklearn/linear_model/logistic.py:432: FutureWarning: Default solver will be changed to 'lbfgs' in 0.22. Specify a solver to silence this warning.\n",
      "  FutureWarning)\n"
     ]
    },
    {
     "name": "stdout",
     "output_type": "stream",
     "text": [
      "              precision    recall  f1-score   support\n",
      "\n",
      "           0       0.84      0.84      0.84      8490\n",
      "           1       0.90      0.90      0.90     13500\n",
      "\n",
      "    accuracy                           0.87     21990\n",
      "   macro avg       0.87      0.87      0.87     21990\n",
      "weighted avg       0.87      0.87      0.87     21990\n",
      "\n",
      "source_category_else          2.765825\n",
      "source_category_mail          2.680134\n",
      "source_category_facebook      2.594553\n",
      "source_category_google        2.517233\n",
      "source_category_dripleads     2.397284\n",
      "source_category_native        2.376097\n",
      "source_category_podcast       2.285723\n",
      "source_category_brandamb      2.032169\n",
      "source_category_Partners      1.696870\n",
      "source_category_time          1.581678\n",
      "source_category_dripd9        1.515896\n",
      "product_253                   1.477088\n",
      "source_category_sailingmag    1.466633\n",
      "product_44                    1.324527\n",
      "product_37                    1.116252\n",
      "dtype: float64 product_223   -1.939553\n",
      "product_224   -1.711608\n",
      "product_251   -1.690158\n",
      "product_240   -1.653811\n",
      "product_10    -1.427958\n",
      "product_221   -1.266387\n",
      "product_275   -1.157865\n",
      "product_269   -1.017732\n",
      "product_270   -1.011688\n",
      "product_268   -1.011688\n",
      "product_246   -0.991547\n",
      "product_205   -0.956412\n",
      "product_227   -0.953957\n",
      "product_153   -0.925296\n",
      "product_225   -0.898556\n",
      "dtype: float64\n"
     ]
    }
   ],
   "source": [
    "from sklearn import metrics\n",
    "from sklearn.linear_model import LogisticRegression\n",
    "from sklearn.model_selection import train_test_split\n",
    "X = features\n",
    "y = labels\n",
    "\n",
    "X_train, X_test, y_train, y_test = train_test_split(X,\n",
    "                                                    y,\n",
    "                                                    test_size=0.25,\n",
    "                                                    random_state=42)\n",
    "\n",
    "\n",
    "model = LogisticRegression()\n",
    "result = model.fit(X_train, y_train)\n",
    "y_pred = model.predict(X_test)\n",
    "\n",
    "print(metrics.classification_report(y_test, y_pred))\n",
    "\n",
    "weights = pd.Series(model.coef_[0], index=X.columns.values)\n",
    "print(\n",
    "    weights.sort_values(ascending=False).head(15),\n",
    "    weights.sort_values().head(15))"
   ]
  },
  {
   "cell_type": "markdown",
   "metadata": {},
   "source": [
    "### 7.2 Decision tree\n",
    "Decision trees are another good option for many classification problems, so I tried that next. This ended up being 88% accurate — getting better!"
   ]
  },
  {
   "cell_type": "code",
   "execution_count": 17,
   "metadata": {},
   "outputs": [
    {
     "name": "stdout",
     "output_type": "stream",
     "text": [
      "              precision    recall  f1-score   support\n",
      "\n",
      "           0       0.85      0.85      0.85      8490\n",
      "           1       0.91      0.90      0.90     13500\n",
      "\n",
      "    accuracy                           0.88     21990\n",
      "   macro avg       0.88      0.88      0.88     21990\n",
      "weighted avg       0.88      0.88      0.88     21990\n",
      "\n"
     ]
    }
   ],
   "source": [
    "from sklearn.tree import DecisionTreeClassifier\n",
    "tree = DecisionTreeClassifier()\n",
    "tree.fit(X_train, y_train)\n",
    "y_pred = tree.predict(X_test)\n",
    "print(metrics.classification_report(y_test, y_pred))"
   ]
  },
  {
   "cell_type": "markdown",
   "metadata": {},
   "source": [
    "### 7.3 Random forest\n",
    "Finally, I decided to try a Random Forest. This yielded the best results so far, with 91% accuracy!"
   ]
  },
  {
   "cell_type": "code",
   "execution_count": 18,
   "metadata": {
    "scrolled": true
   },
   "outputs": [
    {
     "name": "stderr",
     "output_type": "stream",
     "text": [
      "/Users/charleszien/anaconda3/lib/python3.7/site-packages/sklearn/ensemble/forest.py:245: FutureWarning: The default value of n_estimators will change from 10 in version 0.20 to 100 in 0.22.\n",
      "  \"10 in version 0.20 to 100 in 0.22.\", FutureWarning)\n"
     ]
    },
    {
     "name": "stdout",
     "output_type": "stream",
     "text": [
      "              precision    recall  f1-score   support\n",
      "\n",
      "           0       0.83      0.93      0.88      8490\n",
      "           1       0.95      0.88      0.92     13500\n",
      "\n",
      "    accuracy                           0.90     21990\n",
      "   macro avg       0.89      0.91      0.90     21990\n",
      "weighted avg       0.91      0.90      0.90     21990\n",
      "\n"
     ]
    }
   ],
   "source": [
    "from sklearn.ensemble import RandomForestClassifier\n",
    "rf = RandomForestClassifier()\n",
    "rf.fit(X_train, y_train)\n",
    "y_pred = rf.predict(X_test)\n",
    "print(metrics.classification_report(y_test, y_pred))"
   ]
  },
  {
   "cell_type": "markdown",
   "metadata": {},
   "source": [
    "### 7.4 Hyperparameter tuning\n",
    "I used a randomized search to find the optimal hyperparameters. Ideally, I would want to test at least 100 configurations, but for the purposes of this demonstration, I will just do 10, as this is a highly compute-intensive operation."
   ]
  },
  {
   "cell_type": "code",
   "execution_count": 19,
   "metadata": {},
   "outputs": [
    {
     "name": "stdout",
     "output_type": "stream",
     "text": [
      "{'bootstrap': [True, False],\n",
      " 'max_depth': [10, 20, 30, 40, 50, 60, 70, 80, 90, 100, 110, None],\n",
      " 'max_features': ['auto', 'sqrt'],\n",
      " 'min_samples_leaf': [1, 2, 4],\n",
      " 'min_samples_split': [2, 5, 10],\n",
      " 'n_estimators': [200, 400, 600, 800, 1000, 1200, 1400, 1600, 1800, 2000]}\n"
     ]
    }
   ],
   "source": [
    "from pprint import pprint\n",
    "from sklearn.model_selection import RandomizedSearchCV\n",
    "# Number of trees in random forest\n",
    "n_estimators = [int(x) for x in np.linspace(start = 200, stop = 2000, num = 10)]\n",
    "# Number of features to consider at every split\n",
    "max_features = ['auto', 'sqrt']\n",
    "# Maximum number of levels in tree\n",
    "max_depth = [int(x) for x in np.linspace(10, 110, num = 11)]\n",
    "max_depth.append(None)\n",
    "# Minimum number of samples required to split a node\n",
    "min_samples_split = [2, 5, 10]\n",
    "# Minimum number of samples required at each leaf node\n",
    "min_samples_leaf = [1, 2, 4]\n",
    "# Method of selecting samples for training each tree\n",
    "bootstrap = [True, False]\n",
    "# Create the random grid\n",
    "random_grid = {'n_estimators': n_estimators,\n",
    "               'max_features': max_features,\n",
    "               'max_depth': max_depth,\n",
    "               'min_samples_split': min_samples_split,\n",
    "               'min_samples_leaf': min_samples_leaf,\n",
    "               'bootstrap': bootstrap}\n",
    "pprint(random_grid)"
   ]
  },
  {
   "cell_type": "code",
   "execution_count": 20,
   "metadata": {},
   "outputs": [
    {
     "name": "stdout",
     "output_type": "stream",
     "text": [
      "Fitting 3 folds for each of 10 candidates, totalling 30 fits\n"
     ]
    },
    {
     "name": "stderr",
     "output_type": "stream",
     "text": [
      "[Parallel(n_jobs=-1)]: Using backend LokyBackend with 8 concurrent workers.\n",
      "[Parallel(n_jobs=-1)]: Done  30 out of  30 | elapsed: 24.5min finished\n"
     ]
    },
    {
     "data": {
      "text/plain": [
       "RandomizedSearchCV(cv=3, error_score='raise-deprecating',\n",
       "                   estimator=RandomForestClassifier(bootstrap=True,\n",
       "                                                    class_weight=None,\n",
       "                                                    criterion='gini',\n",
       "                                                    max_depth=None,\n",
       "                                                    max_features='auto',\n",
       "                                                    max_leaf_nodes=None,\n",
       "                                                    min_impurity_decrease=0.0,\n",
       "                                                    min_impurity_split=None,\n",
       "                                                    min_samples_leaf=1,\n",
       "                                                    min_samples_split=2,\n",
       "                                                    min_weight_fraction_leaf=0.0,\n",
       "                                                    n_estimators=10,\n",
       "                                                    n_jobs=None,\n",
       "                                                    oob_score=...\n",
       "                   param_distributions={'bootstrap': [True, False],\n",
       "                                        'max_depth': [10, 20, 30, 40, 50, 60,\n",
       "                                                      70, 80, 90, 100, 110,\n",
       "                                                      None],\n",
       "                                        'max_features': ['auto', 'sqrt'],\n",
       "                                        'min_samples_leaf': [1, 2, 4],\n",
       "                                        'min_samples_split': [2, 5, 10],\n",
       "                                        'n_estimators': [200, 400, 600, 800,\n",
       "                                                         1000, 1200, 1400, 1600,\n",
       "                                                         1800, 2000]},\n",
       "                   pre_dispatch='2*n_jobs', random_state=42, refit=True,\n",
       "                   return_train_score=False, scoring=None, verbose=2)"
      ]
     },
     "execution_count": 20,
     "metadata": {},
     "output_type": "execute_result"
    }
   ],
   "source": [
    "# Random search of parameters, using 3 fold cross validation, \n",
    "# search across 10 different combinations, and use all available cores\n",
    "rf_random = RandomizedSearchCV(estimator = rf, param_distributions = random_grid, n_iter = 10, cv = 3, verbose=2, random_state=42, n_jobs = -1)\n",
    "# Fit the random search model\n",
    "rf_random.fit(X_train, y_train)"
   ]
  },
  {
   "cell_type": "code",
   "execution_count": 21,
   "metadata": {},
   "outputs": [
    {
     "data": {
      "text/plain": [
       "{'n_estimators': 1000,\n",
       " 'min_samples_split': 10,\n",
       " 'min_samples_leaf': 1,\n",
       " 'max_features': 'auto',\n",
       " 'max_depth': 80,\n",
       " 'bootstrap': False}"
      ]
     },
     "execution_count": 21,
     "metadata": {},
     "output_type": "execute_result"
    }
   ],
   "source": [
    "params = rf_random.best_params_\n",
    "params"
   ]
  },
  {
   "cell_type": "code",
   "execution_count": 22,
   "metadata": {},
   "outputs": [],
   "source": [
    "rf = RandomForestClassifier(**params)"
   ]
  },
  {
   "cell_type": "code",
   "execution_count": 23,
   "metadata": {},
   "outputs": [
    {
     "data": {
      "text/plain": [
       "RandomForestClassifier(bootstrap=False, class_weight=None, criterion='gini',\n",
       "                       max_depth=80, max_features='auto', max_leaf_nodes=None,\n",
       "                       min_impurity_decrease=0.0, min_impurity_split=None,\n",
       "                       min_samples_leaf=1, min_samples_split=10,\n",
       "                       min_weight_fraction_leaf=0.0, n_estimators=1000,\n",
       "                       n_jobs=None, oob_score=False, random_state=None,\n",
       "                       verbose=0, warm_start=False)"
      ]
     },
     "execution_count": 23,
     "metadata": {},
     "output_type": "execute_result"
    }
   ],
   "source": [
    "rf.fit(X_train, y_train)"
   ]
  },
  {
   "cell_type": "code",
   "execution_count": 24,
   "metadata": {},
   "outputs": [
    {
     "name": "stdout",
     "output_type": "stream",
     "text": [
      "              precision    recall  f1-score   support\n",
      "\n",
      "           0       0.86      0.94      0.90      8490\n",
      "           1       0.96      0.90      0.93     13500\n",
      "\n",
      "    accuracy                           0.92     21990\n",
      "   macro avg       0.91      0.92      0.92     21990\n",
      "weighted avg       0.92      0.92      0.92     21990\n",
      "\n"
     ]
    }
   ],
   "source": [
    "y_pred = rf.predict(X_test)\n",
    "print(metrics.classification_report(y_test, y_pred))"
   ]
  },
  {
   "cell_type": "markdown",
   "metadata": {},
   "source": [
    "### 7. Feature importance\n",
    "I built a horizontal bar plot to show feature importances in the Random Forest model. Three of the newly-engineered features — *tenure_days, mean_order_value,* and *num_orders* — came out on top. The other most important determinants were related to specific products purchased. Interestingly, the source categories did not make it top the top in this model."
   ]
  },
  {
   "cell_type": "code",
   "execution_count": 25,
   "metadata": {
    "scrolled": true
   },
   "outputs": [
    {
     "data": {
      "image/png": "[encoded data removed]",
      "text/plain": [
       "<Figure size 864x576 with 1 Axes>"
      ]
     },
     "metadata": {
      "needs_background": "light"
     },
     "output_type": "display_data"
    }
   ],
   "source": [
    "importance_dict = dict(zip(features, rf.feature_importances_))\n",
    "importance_dict = {\n",
    "    k: v\n",
    "    for k, v in sorted(\n",
    "        importance_dict.items(), key=lambda x: x[1], reverse=True)\n",
    "}\n",
    "tmp = list(importance_dict.items())[:15]\n",
    "x = [i[0] for i in tmp]\n",
    "y = [i[1] for i in tmp]\n",
    "\n",
    "palette = 'Blues_r'\n",
    "fig, ax = plt.subplots(figsize=(12, 8))\n",
    "ax = sns.barplot(y, x, color='tab:blue', palette=palette)\n",
    "ax.set(xlim=(0, max(y) + 0.015), title='Feature Importances')\n",
    "total = len(y)\n",
    "i = 0\n",
    "for p in ax.patches:\n",
    "    ax.text(p.get_width() + .003, p.get_y() + .5, s=round(y[i], 3), ha=\"left\")\n",
    "    i += 1"
   ]
  }
 ],
 "metadata": {
  "kernelspec": {
   "display_name": "Python 3",
   "language": "python",
   "name": "python3"
  },
  "language_info": {
   "codemirror_mode": {
    "name": "ipython",
    "version": 3
   },
   "file_extension": ".py",
   "mimetype": "text/x-python",
   "name": "python",
   "nbconvert_exporter": "python",
   "pygments_lexer": "ipython3",
   "version": "3.7.3"
  }
 },
 "nbformat": 4,
 "nbformat_minor": 4
}
